{
 "cells": [
  {
   "cell_type": "markdown",
   "id": "7f38bcf3-14e5-442d-a70c-030080b97afd",
   "metadata": {},
   "source": [
    "## Intro\n",
    "\n",
    "Fashion MNIST is in the same format as MNIST, but more challenging. For example this same program would get around 98% accuracy on standard MNIST, but will get around 88% accuracy on Fashion MNIST.\n",
    "\n",
    "I did a PR in tinygrad to add this feature here https://github.com/tinygrad/tinygrad/pull/6961 and it got merged.\n",
    "\n",
    "Outside a notebook, this can be done:\n",
    "    FASHION=1 python3 ./examples/beautiful_mnist.py"
   ]
  },
  {
   "cell_type": "markdown",
   "id": "84e76ec8-d76f-41ee-ade1-5eee56b45995",
   "metadata": {},
   "source": [
    "## Dataset"
   ]
  },
  {
   "cell_type": "code",
   "execution_count": 1,
   "id": "9c52f25e",
   "metadata": {},
   "outputs": [
    {
     "name": "stdout",
     "output_type": "stream",
     "text": [
      "(60000, 1, 28, 28) dtypes.uchar (60000,) dtypes.uchar\n"
     ]
    }
   ],
   "source": [
    "from tinygrad.nn.datasets import mnist\n",
    "X_train, Y_train, X_test, Y_test = mnist(fashion=1)\n",
    "print(X_train.shape, X_train.dtype, Y_train.shape, Y_train.dtype)\n",
    "# (60000, 1, 28, 28) dtypes.uchar (60000,) dtypes.uchar"
   ]
  },
  {
   "cell_type": "code",
   "execution_count": 2,
   "id": "d8796db5-67e2-4be5-a162-aedb380576bf",
   "metadata": {},
   "outputs": [
    {
     "data": {
      "image/jpeg": "[encoded data removed]",
      "image/png": "[encoded data removed]",
      "text/plain": [
       "<PIL.Image.Image image mode=L size=168x168>"
      ]
     },
     "metadata": {},
     "output_type": "display_data"
    }
   ],
   "source": [
    "from IPython.display import display\n",
    "import numpy as np\n",
    "from PIL import Image\n",
    "\n",
    "reshaped = X_train[0].reshape(28, 28)\n",
    "nparray = reshaped.numpy()\n",
    "nparray = nparray.astype(np.uint8)\n",
    "img = Image.fromarray(nparray)\n",
    "img = img.resize((168, 168))\n",
    "\n",
    "display(img)"
   ]
  },
  {
   "cell_type": "markdown",
   "id": "cfb4a9d0-12a5-47bf-871d-42b6c7068611",
   "metadata": {},
   "source": [
    "## Model"
   ]
  },
  {
   "cell_type": "code",
   "execution_count": 3,
   "id": "2d074822",
   "metadata": {},
   "outputs": [],
   "source": [
    "from tinygrad import Tensor, nn\n",
    "\n",
    "class Model:\n",
    "  def __init__(self):\n",
    "    self.l1 = nn.Conv2d(1, 32, kernel_size=(3,3))\n",
    "    self.l2 = nn.Conv2d(32, 64, kernel_size=(3,3))\n",
    "    self.l3 = nn.Linear(1600, 10)\n",
    "\n",
    "  def __call__(self, x:Tensor) -> Tensor:\n",
    "    x = self.l1(x).relu().max_pool2d((2,2))\n",
    "    x = self.l2(x).relu().max_pool2d((2,2))\n",
    "    return self.l3(x.flatten(1).dropout(0.5))\n",
    "\n",
    "model = Model()"
   ]
  },
  {
   "cell_type": "markdown",
   "id": "0bf030b0-9ac7-4ffa-87d6-e80e1ba0d853",
   "metadata": {},
   "source": [
    "## Train"
   ]
  },
  {
   "cell_type": "code",
   "execution_count": 4,
   "id": "12ecbfa0",
   "metadata": {},
   "outputs": [],
   "source": [
    "from tinygrad import TinyJit\n",
    "\n",
    "optim = nn.optim.Adam(nn.state.get_parameters(model))\n",
    "batch_size = 128\n",
    "\n",
    "@TinyJit\n",
    "def step():\n",
    "  Tensor.training = True  # makes dropout work\n",
    "  samples = Tensor.randint(batch_size, high=X_train.shape[0])\n",
    "  X, Y = X_train[samples], Y_train[samples]\n",
    "  optim.zero_grad()\n",
    "  loss = model(X).sparse_categorical_crossentropy(Y).backward()\n",
    "  optim.step()\n",
    "  return loss"
   ]
  },
  {
   "cell_type": "code",
   "execution_count": 5,
   "id": "d6f5f97c",
   "metadata": {},
   "outputs": [
    {
     "name": "stdout",
     "output_type": "stream",
     "text": [
      "step    0, loss 30.94, acc 17.11%\n",
      "step  100, loss 0.70, acc 79.67%\n",
      "step  200, loss 0.61, acc 80.67%\n",
      "step  300, loss 0.83, acc 81.28%\n",
      "step  400, loss 0.64, acc 81.33%\n",
      "step  500, loss 0.51, acc 81.80%\n",
      "step  600, loss 0.70, acc 82.62%\n",
      "step  700, loss 0.36, acc 83.85%\n",
      "step  800, loss 0.52, acc 83.24%\n",
      "step  900, loss 0.49, acc 84.36%\n",
      "step 1000, loss 0.50, acc 84.34%\n",
      "step 1100, loss 0.47, acc 85.09%\n",
      "step 1200, loss 0.40, acc 84.37%\n",
      "step 1300, loss 0.61, acc 85.41%\n",
      "step 1400, loss 0.48, acc 85.32%\n",
      "step 1500, loss 0.45, acc 86.37%\n",
      "step 1600, loss 0.50, acc 86.13%\n",
      "step 1700, loss 0.40, acc 86.27%\n",
      "step 1800, loss 0.43, acc 86.35%\n",
      "step 1900, loss 0.37, acc 85.92%\n",
      "step 2000, loss 0.41, acc 85.92%\n",
      "step 2100, loss 0.38, acc 86.90%\n",
      "step 2200, loss 0.28, acc 86.47%\n",
      "step 2300, loss 0.33, acc 86.96%\n",
      "step 2400, loss 0.41, acc 86.22%\n",
      "step 2500, loss 0.35, acc 86.91%\n",
      "step 2600, loss 0.45, acc 87.15%\n",
      "step 2700, loss 0.30, acc 87.00%\n",
      "step 2800, loss 0.24, acc 86.89%\n",
      "step 2900, loss 0.32, acc 86.87%\n",
      "step 3000, loss 0.22, acc 87.41%\n",
      "step 3100, loss 0.51, acc 88.18%\n",
      "step 3200, loss 0.68, acc 86.59%\n",
      "step 3300, loss 0.37, acc 87.86%\n",
      "step 3400, loss 0.44, acc 87.88%\n",
      "step 3500, loss 0.44, acc 88.09%\n",
      "step 3600, loss 0.15, acc 87.36%\n",
      "step 3700, loss 0.42, acc 87.86%\n",
      "step 3800, loss 0.29, acc 88.21%\n",
      "step 3900, loss 0.32, acc 87.05%\n",
      "step 4000, loss 0.41, acc 88.32%\n",
      "step 4100, loss 0.33, acc 88.24%\n",
      "step 4200, loss 0.43, acc 87.69%\n",
      "step 4300, loss 0.29, acc 88.39%\n",
      "step 4400, loss 0.28, acc 88.47%\n",
      "step 4500, loss 0.37, acc 87.93%\n",
      "step 4600, loss 0.37, acc 88.09%\n",
      "step 4700, loss 0.33, acc 88.58%\n",
      "step 4800, loss 0.53, acc 88.41%\n",
      "step 4900, loss 0.30, acc 88.64%\n",
      "step 5000, loss 0.34, acc 88.55%\n",
      "step 5100, loss 0.27, acc 87.77%\n",
      "step 5200, loss 0.41, acc 87.75%\n",
      "step 5300, loss 0.38, acc 88.63%\n",
      "step 5400, loss 0.19, acc 88.20%\n",
      "step 5500, loss 0.19, acc 88.59%\n",
      "step 5600, loss 0.36, acc 88.34%\n",
      "step 5700, loss 0.35, acc 88.39%\n",
      "step 5800, loss 0.35, acc 88.68%\n",
      "step 5900, loss 0.22, acc 88.36%\n",
      "step 6000, loss 0.36, acc 88.20%\n",
      "step 6100, loss 0.29, acc 88.73%\n",
      "step 6200, loss 0.34, acc 88.44%\n",
      "step 6300, loss 0.38, acc 87.92%\n",
      "step 6400, loss 0.37, acc 88.51%\n",
      "step 6500, loss 0.39, acc 88.64%\n",
      "step 6600, loss 0.28, acc 88.39%\n",
      "step 6700, loss 0.27, acc 88.09%\n",
      "step 6800, loss 0.26, acc 88.92%\n",
      "step 6900, loss 0.18, acc 88.69%\n"
     ]
    }
   ],
   "source": [
    "for i in range(7000):\n",
    "  loss = step()\n",
    "  if i%100 == 0:\n",
    "    Tensor.training = False\n",
    "    acc = (model(X_test).argmax(axis=1) == Y_test).mean().item()\n",
    "    print(f\"step {i:4d}, loss {loss.item():.2f}, acc {acc*100.:.2f}%\")"
   ]
  },
  {
   "cell_type": "code",
   "execution_count": null,
   "id": "9880e75b",
   "metadata": {},
   "outputs": [],
   "source": []
  }
 ],
 "metadata": {
  "kernelspec": {
   "display_name": "tinygrad",
   "language": "python",
   "name": "tinygrad"
  },
  "language_info": {
   "codemirror_mode": {
    "name": "ipython",
    "version": 3
   },
   "file_extension": ".py",
   "mimetype": "text/x-python",
   "name": "python",
   "nbconvert_exporter": "python",
   "pygments_lexer": "ipython3",
   "version": "3.10.15"
  }
 },
 "nbformat": 4,
 "nbformat_minor": 5
}
