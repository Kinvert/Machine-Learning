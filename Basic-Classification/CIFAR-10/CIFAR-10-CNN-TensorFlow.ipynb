{
 "cells": [
  {
   "cell_type": "markdown",
   "id": "c4752c6c",
   "metadata": {},
   "source": [
    "## Imports"
   ]
  },
  {
   "cell_type": "code",
   "execution_count": 1,
   "id": "ae6e55d7",
   "metadata": {
    "scrolled": false
   },
   "outputs": [],
   "source": [
    "import matplotlib.pyplot as plt\n",
    "%matplotlib inline\n",
    "import numpy as np\n",
    "import pandas as pd\n",
    "import tensorflow as tf\n",
    "from tensorflow.keras.datasets import cifar10"
   ]
  },
  {
   "cell_type": "markdown",
   "id": "f6c02a19",
   "metadata": {},
   "source": [
    "## Data"
   ]
  },
  {
   "cell_type": "code",
   "execution_count": 2,
   "id": "ba2c72d9",
   "metadata": {
    "scrolled": false
   },
   "outputs": [],
   "source": [
    "# https://keras.io/api/datasets/cifar10/\n",
    "(X_train, Y_train), (X_test, Y_test) = cifar10.load_data()\n",
    "assert X_train.shape == (50000, 32, 32, 3)\n",
    "assert X_test.shape == (10000, 32, 32, 3)\n",
    "assert Y_train.shape == (50000, 1)\n",
    "assert Y_test.shape == (10000, 1)\n",
    "X_train = X_train / 255.0\n",
    "X_test = X_test / 255.0\n",
    "labels = {0 : \"airplane\", 1: \"automobile\", 2: \"bird\", 3: \"cat\", 4: \"deer\",\n",
    "          5: \"dog\", 6: \"frog\", 7: \"horse\", 8: \"ship\", 9: \"truck\"}"
   ]
  },
  {
   "cell_type": "code",
   "execution_count": 3,
   "id": "8fa017bd",
   "metadata": {
    "scrolled": false
   },
   "outputs": [
    {
     "name": "stdout",
     "output_type": "stream",
     "text": [
      "[3] cat\n"
     ]
    },
    {
     "data": {
      "text/plain": [
       "<matplotlib.image.AxesImage at 0x7f086ec18520>"
      ]
     },
     "execution_count": 3,
     "metadata": {},
     "output_type": "execute_result"
    },
    {
     "data": {
      "image/png": "[encoded data removed]",
      "text/plain": [
       "<Figure size 432x288 with 1 Axes>"
      ]
     },
     "metadata": {
      "needs_background": "light"
     },
     "output_type": "display_data"
    }
   ],
   "source": [
    "idx = 17\n",
    "print(Y_train[idx], labels[Y_train[idx][0]])\n",
    "plt.imshow(X_train[idx])"
   ]
  },
  {
   "cell_type": "markdown",
   "id": "54b8f631",
   "metadata": {},
   "source": [
    "## Model"
   ]
  },
  {
   "cell_type": "code",
   "execution_count": 9,
   "id": "e646a3bf",
   "metadata": {
    "scrolled": true
   },
   "outputs": [],
   "source": [
    "data_augmentation = tf.keras.Sequential([\n",
    "    tf.keras.layers.RandomFlip(\"horizontal\"),\n",
    "    tf.keras.layers.RandomRotation(0.05),\n",
    "    tf.keras.layers.RandomContrast(0.5)\n",
    "])\n",
    "data_augmentation.build(input_shape=(1, 32, 32, 3))\n",
    "model = tf.keras.models.Sequential([\n",
    "    \n",
    "    #data_augmentation,\n",
    "    \n",
    "    tf.keras.layers.BatchNormalization(),\n",
    "    tf.keras.layers.Conv2D(input_shape=(32,32,3),\n",
    "                    filters=32,\n",
    "                    kernel_size=3,\n",
    "                    padding='same',\n",
    "                    activation='relu'),\n",
    "    tf.keras.layers.Conv2D(\n",
    "                    filters=32,\n",
    "                    kernel_size=3,\n",
    "                    padding='same',\n",
    "                    activation='relu'),\n",
    "    tf.keras.layers.Conv2D(\n",
    "                    filters=32,\n",
    "                    kernel_size=3,\n",
    "                    padding='same',\n",
    "                    activation='relu'),\n",
    "    tf.keras.layers.MaxPooling2D((2,2)),\n",
    "    tf.keras.layers.Dropout(0.3),\n",
    "    \n",
    "    tf.keras.layers.BatchNormalization(),\n",
    "    tf.keras.layers.Conv2D(\n",
    "                    filters=64,\n",
    "                    kernel_size=3,\n",
    "                    padding='same',\n",
    "                    activation='relu'),\n",
    "    tf.keras.layers.Conv2D(\n",
    "                    filters=64,\n",
    "                    kernel_size=3,\n",
    "                    padding='same',\n",
    "                    activation='relu'),\n",
    "    tf.keras.layers.Conv2D(\n",
    "                    filters=64,\n",
    "                    kernel_size=3,\n",
    "                    padding='same',\n",
    "                    activation='relu'),\n",
    "    tf.keras.layers.MaxPooling2D((2,2)),\n",
    "    tf.keras.layers.Dropout(0.3),\n",
    "    \n",
    "    tf.keras.layers.BatchNormalization(),\n",
    "    tf.keras.layers.Conv2D(\n",
    "                    filters=128,\n",
    "                    kernel_size=3,\n",
    "                    padding='same',\n",
    "                    activation='relu'),\n",
    "    tf.keras.layers.Conv2D(\n",
    "                    filters=128,\n",
    "                    kernel_size=3,\n",
    "                    padding='same',\n",
    "                    activation='relu'),\n",
    "    tf.keras.layers.Conv2D(\n",
    "                    filters=128,\n",
    "                    kernel_size=3,\n",
    "                    padding='same',\n",
    "                    activation='relu'),\n",
    "    tf.keras.layers.MaxPooling2D((2,2)),\n",
    "    tf.keras.layers.Dropout(0.3),\n",
    "    \n",
    "    tf.keras.layers.BatchNormalization(),\n",
    "    tf.keras.layers.Flatten(),\n",
    "    tf.keras.layers.Dropout(0.3),\n",
    "    tf.keras.layers.Dense(128, activation='relu'),\n",
    "    tf.keras.layers.Dropout(0.3),\n",
    "    tf.keras.layers.Dense(256, activation='relu'),\n",
    "    tf.keras.layers.Dropout(0.3),\n",
    "    tf.keras.layers.Dense(128, activation='relu'),\n",
    "    tf.keras.layers.Dropout(0.3),\n",
    "    tf.keras.layers.Dense(10, activation='softmax')\n",
    "])"
   ]
  },
  {
   "cell_type": "markdown",
   "id": "a09fe615",
   "metadata": {},
   "source": [
    "## Train"
   ]
  },
  {
   "cell_type": "code",
   "execution_count": 10,
   "id": "caa75e5e",
   "metadata": {},
   "outputs": [],
   "source": [
    "loss_fn = tf.keras.losses.SparseCategoricalCrossentropy(from_logits=True)\n",
    "model.compile(optimizer='adam', loss=loss_fn, metrics=['accuracy'])\n",
    "history = model.fit(X_train,\n",
    "                    Y_train,\n",
    "                    validation_split=0.1,\n",
    "                    epochs=100,\n",
    "                    batch_size=1024,\n",
    "                    verbose=0)"
   ]
  },
  {
   "cell_type": "markdown",
   "id": "342ab1d3",
   "metadata": {},
   "source": [
    "## Results"
   ]
  },
  {
   "cell_type": "code",
   "execution_count": 6,
   "id": "34acde79",
   "metadata": {
    "scrolled": false
   },
   "outputs": [
    {
     "name": "stdout",
     "output_type": "stream",
     "text": [
      "313/313 - 1s - loss: 0.4309 - accuracy: 0.8677 - 1s/epoch - 4ms/step\n"
     ]
    },
    {
     "data": {
      "text/plain": [
       "<AxesSubplot:>"
      ]
     },
     "execution_count": 6,
     "metadata": {},
     "output_type": "execute_result"
    },
    {
     "data": {
      "image/png": "[encoded data removed]",
      "text/plain": [
       "<Figure size 432x288 with 1 Axes>"
      ]
     },
     "metadata": {
      "needs_background": "light"
     },
     "output_type": "display_data"
    }
   ],
   "source": [
    "model.evaluate(X_test,  Y_test, verbose=2)\n",
    "pd.DataFrame(history.history).plot()"
   ]
  },
  {
   "cell_type": "code",
   "execution_count": 11,
   "id": "d05c42bd",
   "metadata": {},
   "outputs": [],
   "source": [
    "preds = model.predict(X_test)\n",
    "preds = [np.argmax(pred) for pred in preds]"
   ]
  },
  {
   "cell_type": "code",
   "execution_count": 12,
   "id": "1d07afb5",
   "metadata": {},
   "outputs": [
    {
     "name": "stdout",
     "output_type": "stream",
     "text": [
      "8\n",
      "ship\n"
     ]
    },
    {
     "data": {
      "text/plain": [
       "<matplotlib.image.AxesImage at 0x7fa56c3ec640>"
      ]
     },
     "execution_count": 12,
     "metadata": {},
     "output_type": "execute_result"
    },
    {
     "data": {
      "image/png": "[encoded data removed]",
      "text/plain": [
       "<Figure size 432x288 with 1 Axes>"
      ]
     },
     "metadata": {
      "needs_background": "light"
     },
     "output_type": "display_data"
    }
   ],
   "source": [
    "idx = 2\n",
    "print(preds[idx])\n",
    "print(labels[preds[idx]])\n",
    "plt.imshow(X_test[idx])"
   ]
  },
  {
   "cell_type": "markdown",
   "id": "fbc6115c",
   "metadata": {},
   "source": [
    "## Visualize Augmentation"
   ]
  },
  {
   "cell_type": "code",
   "execution_count": 14,
   "id": "4f7f5e8a",
   "metadata": {},
   "outputs": [
    {
     "data": {
      "text/plain": [
       "Text(0.5, 1.0, 'Augmented')"
      ]
     },
     "execution_count": 14,
     "metadata": {},
     "output_type": "execute_result"
    },
    {
     "data": {
      "image/png": "[encoded data removed]",
      "text/plain": [
       "<Figure size 1080x1080 with 2 Axes>"
      ]
     },
     "metadata": {
      "needs_background": "light"
     },
     "output_type": "display_data"
    }
   ],
   "source": [
    "idx = 6\n",
    "data_augmentation = tf.keras.Sequential([\n",
    "    tf.keras.layers.RandomFlip(\"horizontal\"),\n",
    "    tf.keras.layers.RandomRotation(0.05),\n",
    "    tf.keras.layers.RandomContrast(0.5)\n",
    "])\n",
    "\n",
    "augmented = data_augmentation(X_test[idx], training=True)\n",
    "f, axarr = plt.subplots(1, 2, figsize=(15, 15))\n",
    "axarr[0].imshow(X_test[idx])\n",
    "axarr[0].set_title('Original')\n",
    "axarr[1].imshow(augmented)\n",
    "axarr[1].set_title('Augmented')"
   ]
  },
  {
   "cell_type": "code",
   "execution_count": null,
   "id": "5669e4bc",
   "metadata": {},
   "outputs": [],
   "source": []
  }
 ],
 "metadata": {
  "kernelspec": {
   "display_name": "Python 3 (ipykernel)",
   "language": "python",
   "name": "python3"
  },
  "language_info": {
   "codemirror_mode": {
    "name": "ipython",
    "version": 3
   },
   "file_extension": ".py",
   "mimetype": "text/x-python",
   "name": "python",
   "nbconvert_exporter": "python",
   "pygments_lexer": "ipython3",
   "version": "3.8.13"
  }
 },
 "nbformat": 4,
 "nbformat_minor": 5
}
