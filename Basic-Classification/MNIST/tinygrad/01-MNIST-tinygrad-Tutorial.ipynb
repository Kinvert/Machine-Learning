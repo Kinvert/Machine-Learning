{
 "cells": [
  {
   "cell_type": "markdown",
   "id": "8e63efd8",
   "metadata": {},
   "source": [
    "# tinygrad MNIST Tutorial\n",
    "https://docs.tinygrad.org/mnist/"
   ]
  },
  {
   "cell_type": "code",
   "execution_count": 2,
   "id": "4a40e318",
   "metadata": {},
   "outputs": [
    {
     "name": "stdout",
     "output_type": "stream",
     "text": [
      "CUDA\n"
     ]
    }
   ],
   "source": [
    "from tinygrad import Device\n",
    "print(Device.DEFAULT)"
   ]
  },
  {
   "cell_type": "code",
   "execution_count": 3,
   "id": "e06b2b46",
   "metadata": {},
   "outputs": [],
   "source": [
    "from tinygrad import Tensor, nn\n",
    "\n",
    "class Model:\n",
    "  def __init__(self):\n",
    "    self.l1 = nn.Conv2d(1, 32, kernel_size=(3,3))\n",
    "    self.l2 = nn.Conv2d(32, 64, kernel_size=(3,3))\n",
    "    self.l3 = nn.Linear(1600, 10)\n",
    "\n",
    "  def __call__(self, x:Tensor) -> Tensor:\n",
    "    x = self.l1(x).relu().max_pool2d((2,2))\n",
    "    x = self.l2(x).relu().max_pool2d((2,2))\n",
    "    return self.l3(x.flatten(1).dropout(0.5))"
   ]
  },
  {
   "cell_type": "code",
   "execution_count": 4,
   "id": "6bdaf9f2",
   "metadata": {},
   "outputs": [
    {
     "name": "stdout",
     "output_type": "stream",
     "text": [
      "(60000, 1, 28, 28) dtypes.uchar (60000,) dtypes.uchar\n"
     ]
    }
   ],
   "source": [
    "from tinygrad.nn.datasets import mnist\n",
    "X_train, Y_train, X_test, Y_test = mnist()\n",
    "print(X_train.shape, X_train.dtype, Y_train.shape, Y_train.dtype)\n",
    "# (60000, 1, 28, 28) dtypes.uchar (60000,) dtypes.uchar"
   ]
  },
  {
   "cell_type": "code",
   "execution_count": 5,
   "id": "aae577b7",
   "metadata": {},
   "outputs": [
    {
     "name": "stdout",
     "output_type": "stream",
     "text": [
      "0.11069999635219574\n"
     ]
    }
   ],
   "source": [
    "model = Model()\n",
    "acc = (model(X_test).argmax(axis=1) == Y_test).mean()\n",
    "# NOTE: tinygrad is lazy, and hasn't actually run anything by this point\n",
    "print(acc.item())  # ~10% accuracy, as expected from a random model\n"
   ]
  },
  {
   "cell_type": "code",
   "execution_count": 10,
   "id": "8bbb6a56",
   "metadata": {},
   "outputs": [],
   "source": [
    "optim = nn.optim.Adam(nn.state.get_parameters(model))\n",
    "batch_size = 128\n",
    "def step():\n",
    "  Tensor.training = True  # makes dropout work\n",
    "  samples = Tensor.randint(batch_size, high=X_train.shape[0])\n",
    "  X, Y = X_train[samples], Y_train[samples]\n",
    "  optim.zero_grad()\n",
    "  loss = model(X).sparse_categorical_crossentropy(Y).backward()\n",
    "  optim.step()\n",
    "  return loss\n"
   ]
  },
  {
   "cell_type": "code",
   "execution_count": 12,
   "id": "558db266",
   "metadata": {},
   "outputs": [
    {
     "data": {
      "text/plain": [
       "[0.08535185595974326,\n",
       " 0.07988821202889085,\n",
       " 0.07686099782586098,\n",
       " 0.08139940025284886,\n",
       " 0.07806056411936879]"
      ]
     },
     "execution_count": 12,
     "metadata": {},
     "output_type": "execute_result"
    }
   ],
   "source": [
    "import timeit\n",
    "timeit.repeat(step, repeat=5, number=1)\n",
    "#[0.08268719699981375,\n",
    "# 0.07478952900009972,\n",
    "# 0.07714716600003158,\n",
    "# 0.07785399599970333,\n",
    "# 0.07605237000007037]"
   ]
  },
  {
   "cell_type": "code",
   "execution_count": 13,
   "id": "e384c7aa",
   "metadata": {},
   "outputs": [
    {
     "name": "stdout",
     "output_type": "stream",
     "text": [
      "scheduled 52 kernels\n",
      "memory reduced from 60.51 MB -> 42.70 MB, 24 -> 19 bufs\n",
      "*** CUDA       1 E_\u001b[90mn12\u001b[0m                                     arg  1 mem  0.06 GB tm    109.57us/     0.11ms (     0.00 GFLOPS    0.0|0.0     GB/s) ['__imul__']\n",
      "*** CUDA       2 E_\u001b[90mn13\u001b[0m                                     arg  1 mem  0.06 GB tm     12.29us/     0.12ms (     0.00 GFLOPS    0.0|0.0     GB/s) ['__imul__']\n",
      "*** CUDA       3 E_\u001b[90mn7\u001b[0m                                      arg  1 mem  0.06 GB tm     10.24us/     0.13ms (     0.00 GFLOPS    0.0|0.0     GB/s) ['randint']\n",
      "*** CUDA       4 E_\u001b[90m\u001b[0m                                        arg  1 mem  0.06 GB tm     10.24us/     0.14ms (     0.00 GFLOPS    0.0|0.0     GB/s) ['randint']\n",
      "*** CUDA       5 r_\u001b[34m625\u001b[0m\u001b[90m_\u001b[0m\u001b[36m32\u001b[0m\u001b[90m_\u001b[0m\u001b[31m15000\u001b[0m\u001b[90m_\u001b[0m\u001b[33m3\u001b[0m\u001b[90m_\u001b[0m\u001b[35m4\u001b[0m\u001b[90m\u001b[0m                        arg  1 mem  0.06 GB tm     11.26us/     0.15ms (    40.84 GFLOPS   21.3|21.3    GB/s) ['__getitem__']\n",
      "*** CUDA       6 r_\u001b[34m5\u001b[0m\u001b[90m_\u001b[0m\u001b[36m2\u001b[0m\u001b[90m_\u001b[0m\u001b[35m10\u001b[0m\u001b[90mn1\u001b[0m                                arg  1 mem  0.06 GB tm     10.24us/     0.16ms (     0.04 GFLOPS    0.0|0.0     GB/s) ['sparse_categorical_crossentropy']\n",
      "*** CUDA       7 E_\u001b[90mn11\u001b[0m                                     arg  2 mem  0.06 GB tm      4.10us/     0.17ms (     0.00 GFLOPS    0.0|0.0     GB/s) ['__rsub__']\n",
      "*** CUDA       8 E_\u001b[90mn11\u001b[0m                                     arg  2 mem  0.06 GB tm      9.22us/     0.18ms (     0.00 GFLOPS    0.0|0.0     GB/s) ['__rsub__']\n",
      "*** CUDA       9 E_\u001b[90mn10\u001b[0m                                     arg  2 mem  0.06 GB tm     10.24us/     0.19ms (     0.00 GFLOPS    0.0|0.0     GB/s) ['dropout']\n",
      "*** CUDA      10 r_\u001b[34m64\u001b[0m\u001b[90m_\u001b[0m\u001b[32m16\u001b[0m\u001b[90m_\u001b[0m\u001b[31m4\u001b[0m\u001b[90m\u001b[0m                                 arg  2 mem  0.06 GB tm     10.24us/     0.20ms (     2.50 GFLOPS    0.0|7.6     GB/s) ['randint']\n",
      "*** CUDA      11 r_\u001b[34m800\u001b[0m\u001b[90m_\u001b[0m\u001b[36m32\u001b[0m\u001b[90m_\u001b[0m\u001b[31m25600\u001b[0m\u001b[90m_\u001b[0m\u001b[33m4\u001b[0m\u001b[90m_\u001b[0m\u001b[35m4\u001b[0m\u001b[90m\u001b[0m                        arg  2 mem  0.06 GB tm     14.34us/     0.21ms (    35.71 GFLOPS   28.6|35.7    GB/s) ['dropout']\n",
      "*** CUDA      12 E_\u001b[36m16\u001b[0m\u001b[90m_\u001b[0m\u001b[33m4\u001b[0m\u001b[90mn4\u001b[0m                                  arg  3 mem  0.06 GB tm     10.24us/     0.22ms (     0.97 GFLOPS    0.1|0.1     GB/s) ['randint']\n",
      "*** CUDA      13 E_\u001b[34m800\u001b[0m\u001b[90m_\u001b[0m\u001b[36m32\u001b[0m\u001b[90m_\u001b[0m\u001b[33m4\u001b[0m\u001b[90m\u001b[0m                                arg  3 mem  0.06 GB tm     10.24us/     0.23ms (  1555.00 GFLOPS   80.0|100.0   GB/s) ['dropout']\n",
      "*** CUDA      14 E_\u001b[36m32\u001b[0m\u001b[90m_\u001b[0m\u001b[33m4\u001b[0m\u001b[90m\u001b[0m                                    arg  5 mem  0.06 GB tm      9.22us/     0.24ms (     2.20 GFLOPS    0.1|0.2     GB/s) ['randint']\n",
      "*** CUDA      15 E_\u001b[34m1600\u001b[0m\u001b[90m_\u001b[0m\u001b[36m32\u001b[0m\u001b[90m_\u001b[0m\u001b[33m4\u001b[0m\u001b[90m\u001b[0m                               arg  5 mem  0.06 GB tm     19.46us/     0.26ms (  1671.05 GFLOPS  105.3|157.9   GB/s) ['dropout']\n",
      "\u001b[32m*** CUDA      16\u001b[0m \u001b[33mview      512 @ 0         \u001b[0m                arg  2 mem  0.06 GB \n",
      "\u001b[32m*** CUDA      17\u001b[0m \u001b[33mview   819200 @ 0         \u001b[0m                arg  2 mem  0.06 GB \n",
      "*** CUDA      18 E_\u001b[36m32\u001b[0m\u001b[90m_\u001b[0m\u001b[33m4\u001b[0m\u001b[90mn1\u001b[0m                                  arg  2 mem  0.06 GB tm     34.82us/     0.30ms (     0.00 GFLOPS    0.0|0.0     GB/s) ['randint']\n",
      "*** CUDA      19 E_\u001b[34m1600\u001b[0m\u001b[90m_\u001b[0m\u001b[36m32\u001b[0m\u001b[90m_\u001b[0m\u001b[33m4\u001b[0m\u001b[90mn1\u001b[0m                             arg  2 mem  0.06 GB tm     50.18us/     0.35ms (     8.16 GFLOPS   20.4|20.4    GB/s) ['dropout']\n",
      "*** CUDA      20 E_\u001b[36m32\u001b[0m\u001b[90m_\u001b[0m\u001b[33m4\u001b[0m\u001b[90mn2\u001b[0m                                  arg  2 mem  0.06 GB tm     16.38us/     0.36ms (     0.03 GFLOPS    0.1|0.1     GB/s) ['randint', '__getitem__']\n",
      "*** CUDA      21 r_\u001b[34m8\u001b[0m\u001b[90m_\u001b[0m\u001b[34m49\u001b[0m\u001b[90m_\u001b[0m\u001b[34m5\u001b[0m\u001b[90m_\u001b[0m\u001b[36m4\u001b[0m\u001b[90m_\u001b[0m\u001b[36m4\u001b[0m\u001b[90m_\u001b[0m\u001b[36m8\u001b[0m\u001b[90m_\u001b[0m\u001b[31m375\u001b[0m\u001b[90m_\u001b[0m\u001b[33m4\u001b[0m\u001b[90m_\u001b[0m\u001b[33m4\u001b[0m\u001b[90m_\u001b[0m\u001b[35m4\u001b[0m\u001b[90m\u001b[0m                  arg  4 mem  0.06 GB tm   3298.30us/     3.66ms (  4563.80 GFLOPS   15.6|915.2   GB/s) ['__getitem__']\n",
      "*** CUDA      22 r_\u001b[34m125\u001b[0m\u001b[90m_\u001b[0m\u001b[36m32\u001b[0m\u001b[90m_\u001b[0m\u001b[36m2\u001b[0m\u001b[90m_\u001b[0m\u001b[31m60\u001b[0m\u001b[90m_\u001b[0m\u001b[33m4\u001b[0m\u001b[90m_\u001b[0m\u001b[35m4\u001b[0m\u001b[90m\u001b[0m                         arg  4 mem  0.06 GB tm     17.41us/     3.68ms (  1764.71 GFLOPS   19.1|560.7   GB/s) ['__getitem__']\n",
      "*** CUDA      23 r_\u001b[34m3136\u001b[0m\u001b[90m_\u001b[0m\u001b[36m32\u001b[0m\u001b[90m_\u001b[0m\u001b[31m10\u001b[0m\u001b[90m_\u001b[0m\u001b[35m4\u001b[0m\u001b[90m\u001b[0m                            arg  2 mem  0.06 GB tm     14.34us/     3.69ms (   280.00 GFLOPS  287.0|287.0   GB/s) ['__getitem__']\n",
      "*** CUDA      24 r_\u001b[34m4\u001b[0m\u001b[90m_\u001b[0m\u001b[36m32\u001b[0m\u001b[90m_\u001b[0m\u001b[31m250\u001b[0m\u001b[90m\u001b[0m                                arg  2 mem  0.06 GB tm     22.53us/     3.72ms (     1.42 GFLOPS    1.4|1.4     GB/s) ['__getitem__', 'sparse_categorical_crossentropy']\n",
      "*** CUDA      25 r_\u001b[34m32\u001b[0m\u001b[90m_\u001b[0m\u001b[34m13\u001b[0m\u001b[90m_\u001b[0m\u001b[34m13\u001b[0m\u001b[90m_\u001b[0m\u001b[36m8\u001b[0m\u001b[90m_\u001b[0m\u001b[36m2\u001b[0m\u001b[90m_\u001b[0m\u001b[36m2\u001b[0m\u001b[90m_\u001b[0m\u001b[33m4\u001b[0m\u001b[90m_\u001b[0m\u001b[33m4\u001b[0m\u001b[90m_\u001b[0m\u001b[35m3\u001b[0m\u001b[90m_\u001b[0m\u001b[35m3\u001b[0m\u001b[90m\u001b[0m                  arg  4 mem  0.07 GB tm     68.64us/     3.78ms (   766.45 GFLOPS  162.8|655.5   GB/s) ['conv2d', 'relu']\n",
      "*** CUDA      26 r_\u001b[34m1664\u001b[0m\u001b[90m_\u001b[0m\u001b[34m13\u001b[0m\u001b[90m_\u001b[0m\u001b[36m32\u001b[0m\u001b[90m_\u001b[0m\u001b[35m2\u001b[0m\u001b[90m_\u001b[0m\u001b[35m2\u001b[0m\u001b[90m\u001b[0m                          arg  2 mem  0.07 GB tm     45.06us/     3.83ms (    46.09 GFLOPS  307.3|307.3   GB/s) ['max_pool2d']\n",
      "*** CUDA      27 r_\u001b[34m1664\u001b[0m\u001b[90m_\u001b[0m\u001b[34m13\u001b[0m\u001b[90m_\u001b[0m\u001b[36m32\u001b[0m\u001b[90m_\u001b[0m\u001b[35m2\u001b[0m\u001b[90m_\u001b[0m\u001b[35m2\u001b[0m\u001b[90mn1\u001b[0m                        arg  3 mem  0.07 GB tm     50.18us/     3.88ms (   151.76 GFLOPS  331.1|331.1   GB/s) ['max_pool2d bw']\n",
      "*** CUDA      28 r_\u001b[34m4\u001b[0m\u001b[90m_\u001b[0m\u001b[34m11\u001b[0m\u001b[90m_\u001b[0m\u001b[34m11\u001b[0m\u001b[90m_\u001b[0m\u001b[36m8\u001b[0m\u001b[90m_\u001b[0m\u001b[36m16\u001b[0m\u001b[90m_\u001b[0m\u001b[31m32\u001b[0m\u001b[90m_\u001b[0m\u001b[33m4\u001b[0m\u001b[90m_\u001b[0m\u001b[33m4\u001b[0m\u001b[90m_\u001b[0m\u001b[35m3\u001b[0m\u001b[90m_\u001b[0m\u001b[35m3\u001b[0m\u001b[90m\u001b[0m                 arg  4 mem  0.09 GB tm    412.67us/     4.29ms (  1388.35 GFLOPS   16.5|1395.6  GB/s) ['conv2d', 'relu']\n",
      "*** CUDA      29 r_\u001b[34m256\u001b[0m\u001b[90m_\u001b[0m\u001b[34m5\u001b[0m\u001b[90m_\u001b[0m\u001b[34m5\u001b[0m\u001b[90m_\u001b[0m\u001b[36m32\u001b[0m\u001b[90m_\u001b[0m\u001b[35m2\u001b[0m\u001b[90m_\u001b[0m\u001b[35m2\u001b[0m\u001b[90m\u001b[0m                          arg  2 mem  0.09 GB tm     20.48us/     4.31ms (    30.00 GFLOPS  200.0|200.0   GB/s) ['max_pool2d']\n",
      "*** CUDA      30 r_\u001b[34m256\u001b[0m\u001b[90m_\u001b[0m\u001b[34m5\u001b[0m\u001b[90m_\u001b[0m\u001b[34m5\u001b[0m\u001b[90m_\u001b[0m\u001b[36m32\u001b[0m\u001b[90m_\u001b[0m\u001b[35m2\u001b[0m\u001b[90m_\u001b[0m\u001b[35m2\u001b[0m\u001b[90mn1\u001b[0m                        arg  3 mem  0.09 GB tm     22.53us/     4.33ms (   100.00 GFLOPS  218.2|218.2   GB/s) ['max_pool2d bw']\n",
      "*** CUDA      31 E_\u001b[34m1600\u001b[0m\u001b[90m_\u001b[0m\u001b[36m32\u001b[0m\u001b[90m_\u001b[0m\u001b[33m4\u001b[0m\u001b[90mn2\u001b[0m                             arg  3 mem  0.09 GB tm     15.36us/     4.35ms (    26.67 GFLOPS  120.0|120.0   GB/s) ['dropout']\n",
      "*** CUDA      32 r_\u001b[34m128\u001b[0m\u001b[90m_\u001b[0m\u001b[34m10\u001b[0m\u001b[90m_\u001b[0m\u001b[32m16\u001b[0m\u001b[90m_\u001b[0m\u001b[31m100\u001b[0m\u001b[90m\u001b[0m                           arg  4 mem  0.09 GB tm     27.65us/     4.38ms (   160.74 GFLOPS   32.1|648.9   GB/s) ['linear']\n",
      "*** CUDA      33 r_\u001b[34m4\u001b[0m\u001b[90m_\u001b[0m\u001b[36m32\u001b[0m\u001b[90m_\u001b[0m\u001b[35m10\u001b[0m\u001b[90m\u001b[0m                                 arg  2 mem  0.09 GB tm      4.10us/     4.38ms (     0.28 GFLOPS    1.4|1.4     GB/s) ['sparse_categorical_crossentropy']\n",
      "*** CUDA      34 r_\u001b[34m4\u001b[0m\u001b[90m_\u001b[0m\u001b[36m32\u001b[0m\u001b[90m_\u001b[0m\u001b[35m10\u001b[0m\u001b[90mn1\u001b[0m                               arg  3 mem  0.10 GB tm      4.10us/     4.39ms (     0.91 GFLOPS    1.5|1.5     GB/s) ['sparse_categorical_crossentropy bw']\n",
      "*** CUDA      35 r_\u001b[34m4\u001b[0m\u001b[90m_\u001b[0m\u001b[36m32\u001b[0m\u001b[90m_\u001b[0m\u001b[35m10\u001b[0m\u001b[90mn2\u001b[0m                               arg  3 mem  0.10 GB tm      4.83us/     4.39ms (     1.03 GFLOPS    1.3|1.3     GB/s) ['sparse_categorical_crossentropy']\n",
      "*** CUDA      36 r_\u001b[34m4\u001b[0m\u001b[90m_\u001b[0m\u001b[36m32\u001b[0m\u001b[90m_\u001b[0m\u001b[35m10\u001b[0m\u001b[90mn3\u001b[0m                               arg  4 mem  0.10 GB tm     12.29us/     4.40ms (     0.43 GFLOPS    0.1|0.5     GB/s) ['sparse_categorical_crossentropy', 'sparse_categorical_crossentropy bw']\n",
      "*** CUDA      37 r_\u001b[34m4\u001b[0m\u001b[90m_\u001b[0m\u001b[36m32\u001b[0m\u001b[90m_\u001b[0m\u001b[35m10\u001b[0m\u001b[90mn4\u001b[0m                               arg  6 mem  0.10 GB tm     12.29us/     4.42ms (     0.93 GFLOPS    0.6|1.0     GB/s) ['sparse_categorical_crossentropy', 'sparse_categorical_crossentropy bw', '__add__']\n",
      "*** CUDA      38 E_\u001b[34m5\u001b[0m\u001b[90m_\u001b[0m\u001b[36m32\u001b[0m\u001b[90m_\u001b[0m\u001b[36m2\u001b[0m\u001b[90m_\u001b[0m\u001b[33m4\u001b[0m\u001b[90m\u001b[0m                                arg  8 mem  0.10 GB tm     10.24us/     4.43ms (     1.75 GFLOPS    1.3|3.6     GB/s) ['sparse_categorical_crossentropy', 'sparse_categorical_crossentropy bw', '__add__']\n",
      "*** CUDA      39 r3_\u001b[34m10\u001b[0m\u001b[90m_\u001b[0m\u001b[32m16\u001b[0m\u001b[90m_\u001b[0m\u001b[31m8\u001b[0m\u001b[90mn1\u001b[0m                              arg  7 mem  0.10 GB tm      9.22us/     4.43ms (     0.69 GFLOPS    0.6|2.4     GB/s) ['__rmul__', 'linear bw', '__add__', 'assign', '__mul__', '__truediv__', 'sqrt', '__sub__']\n",
      "*** CUDA      40 r_\u001b[34m4\u001b[0m\u001b[90m_\u001b[0m\u001b[34m25\u001b[0m\u001b[90m_\u001b[0m\u001b[36m8\u001b[0m\u001b[90m_\u001b[0m\u001b[36m16\u001b[0m\u001b[90m_\u001b[0m\u001b[33m4\u001b[0m\u001b[90m_\u001b[0m\u001b[33m4\u001b[0m\u001b[90m_\u001b[0m\u001b[35m10\u001b[0m\u001b[90m\u001b[0m                        arg  4 mem  0.10 GB tm     13.31us/     4.45ms (   323.08 GFLOPS   82.1|384.6   GB/s) ['linear bw', 'dropout bw']\n",
      "*** CUDA      41 E_\u001b[34m256\u001b[0m\u001b[90m_\u001b[0m\u001b[34m5\u001b[0m\u001b[90m_\u001b[0m\u001b[34m5\u001b[0m\u001b[90m_\u001b[0m\u001b[36m32\u001b[0m\u001b[90m_\u001b[0m\u001b[36m2\u001b[0m\u001b[90m_\u001b[0m\u001b[36m2\u001b[0m\u001b[90m\u001b[0m                          arg  5 mem  0.10 GB tm     74.75us/     4.52ms (    54.79 GFLOPS  129.8|219.2   GB/s) ['max_pool2d bw']\n",
      "*** CUDA      42 r3_\u001b[34m5\u001b[0m\u001b[90m_\u001b[0m\u001b[34m25\u001b[0m\u001b[90m_\u001b[0m\u001b[36m2\u001b[0m\u001b[90m_\u001b[0m\u001b[36m16\u001b[0m\u001b[90m_\u001b[0m\u001b[31m32\u001b[0m\u001b[90m_\u001b[0m\u001b[33m4\u001b[0m\u001b[90m_\u001b[0m\u001b[35m4\u001b[0m\u001b[90mn1\u001b[0m                     arg  8 mem  0.09 GB tm     15.36us/     4.54ms (   282.55 GFLOPS   78.7|694.8   GB/s) ['__rmul__', 'linear bw', '__add__', 'assign', '__mul__', '__truediv__', 'sqrt', '__sub__']\n",
      "*** CUDA      43 E_\u001b[34m16\u001b[0m\u001b[90m_\u001b[0m\u001b[34m11\u001b[0m\u001b[90m_\u001b[0m\u001b[34m11\u001b[0m\u001b[90m_\u001b[0m\u001b[36m8\u001b[0m\u001b[90m_\u001b[0m\u001b[36m16\u001b[0m\u001b[90m_\u001b[0m\u001b[33m4\u001b[0m\u001b[90m\u001b[0m                         arg  3 mem  0.10 GB tm     97.28us/     4.64ms (    28.02 GFLOPS  115.2|122.3   GB/s) ['relu bw']\n",
      "*** CUDA      44 r3_\u001b[34m64\u001b[0m\u001b[90m_\u001b[0m\u001b[32m16\u001b[0m\u001b[90m_\u001b[0m\u001b[31m8\u001b[0m\u001b[90m_\u001b[0m\u001b[31m121\u001b[0m\u001b[90mn1\u001b[0m                          arg  7 mem  0.10 GB tm     28.67us/     4.66ms (    35.71 GFLOPS  138.3|142.0   GB/s) ['__rmul__', 'conv2d bw', '__add__', 'assign', '__mul__', '__truediv__', 'sqrt', '__sub__']\n",
      "*** CUDA      45 r_\u001b[34m16\u001b[0m\u001b[90m_\u001b[0m\u001b[34m2\u001b[0m\u001b[90m_\u001b[0m\u001b[34m121\u001b[0m\u001b[90m_\u001b[0m\u001b[36m2\u001b[0m\u001b[90m_\u001b[0m\u001b[36m16\u001b[0m\u001b[90m_\u001b[0m\u001b[36m3\u001b[0m\u001b[90m_\u001b[0m\u001b[31m16\u001b[0m\u001b[90m_\u001b[0m\u001b[33m4\u001b[0m\u001b[90m_\u001b[0m\u001b[33m3\u001b[0m\u001b[90m_\u001b[0m\u001b[35m4\u001b[0m\u001b[90m\u001b[0m                arg  3 mem  0.10 GB tm    332.80us/     5.00ms (  1715.59 GFLOPS   65.7|2055.1  GB/s) ['conv2d bw']\n",
      "*** CUDA      46 r_\u001b[34m16\u001b[0m\u001b[90m_\u001b[0m\u001b[34m2\u001b[0m\u001b[90m_\u001b[0m\u001b[34m13\u001b[0m\u001b[90m_\u001b[0m\u001b[34m13\u001b[0m\u001b[90m_\u001b[0m\u001b[36m8\u001b[0m\u001b[90m_\u001b[0m\u001b[36m16\u001b[0m\u001b[90m_\u001b[0m\u001b[31m4\u001b[0m\u001b[90m_\u001b[0m\u001b[35m4\u001b[0m\u001b[90m\u001b[0m                     arg  2 mem  0.10 GB tm    145.41us/     5.14ms (   290.39 GFLOPS  141.8|323.7   GB/s) ['conv2d bw']\n",
      "*** CUDA      47 r3_\u001b[34m8\u001b[0m\u001b[90m_\u001b[0m\u001b[34m2\u001b[0m\u001b[90m_\u001b[0m\u001b[36m2\u001b[0m\u001b[90m_\u001b[0m\u001b[36m16\u001b[0m\u001b[90m_\u001b[0m\u001b[36m3\u001b[0m\u001b[90m_\u001b[0m\u001b[31m128\u001b[0m\u001b[90m_\u001b[0m\u001b[31m11\u001b[0m\u001b[90m_\u001b[0m\u001b[33m4\u001b[0m\u001b[90m_\u001b[0m\u001b[33m3\u001b[0m\u001b[90m_\u001b[0m\u001b[35m11\u001b[0m\u001b[90mn1\u001b[0m             arg  8 mem  0.10 GB tm   1386.50us/     6.53ms (   411.99 GFLOPS    5.2|356.0   GB/s) ['__rmul__', 'conv2d bw', '__add__', 'assign', '__mul__', '__truediv__', 'sqrt', '__sub__']\n",
      "*** CUDA      48 E_\u001b[34m32\u001b[0m\u001b[90m_\u001b[0m\u001b[34m13\u001b[0m\u001b[90m_\u001b[0m\u001b[34m13\u001b[0m\u001b[90m_\u001b[0m\u001b[36m32\u001b[0m\u001b[90m_\u001b[0m\u001b[36m2\u001b[0m\u001b[90m_\u001b[0m\u001b[36m2\u001b[0m\u001b[90m_\u001b[0m\u001b[33m4\u001b[0m\u001b[90m\u001b[0m                       arg  5 mem  0.10 GB tm    315.39us/     6.84ms (    61.45 GFLOPS   96.6|175.6   GB/s) ['relu bw', 'max_pool2d bw']\n",
      "*** CUDA      49 r_\u001b[34m32\u001b[0m\u001b[90m_\u001b[0m\u001b[36m8\u001b[0m\u001b[90m_\u001b[0m\u001b[36m3\u001b[0m\u001b[90m_\u001b[0m\u001b[36m4\u001b[0m\u001b[90m_\u001b[0m\u001b[31m26\u001b[0m\u001b[90m_\u001b[0m\u001b[33m4\u001b[0m\u001b[90m_\u001b[0m\u001b[33m3\u001b[0m\u001b[90m_\u001b[0m\u001b[35m26\u001b[0m\u001b[90m\u001b[0m                      arg  3 mem  0.08 GB tm    124.93us/     6.97ms (   398.95 GFLOPS   90.6|285.0   GB/s) ['conv2d', 'conv2d bw']\n",
      "*** CUDA      50 r_\u001b[34m4\u001b[0m\u001b[90m_\u001b[0m\u001b[34m8\u001b[0m\u001b[90m_\u001b[0m\u001b[36m8\u001b[0m\u001b[90m_\u001b[0m\u001b[36m16\u001b[0m\u001b[90m_\u001b[0m\u001b[31m169\u001b[0m\u001b[90m_\u001b[0m\u001b[35m4\u001b[0m\u001b[90m\u001b[0m                          arg  2 mem  0.08 GB tm     36.86us/     7.01ms (    75.11 GFLOPS  300.9|300.9   GB/s) ['conv2d bw']\n",
      "*** CUDA      51 r3_\u001b[34m288\u001b[0m\u001b[90m_\u001b[0m\u001b[32m16\u001b[0m\u001b[90m_\u001b[0m\u001b[31m8\u001b[0m\u001b[90mn1\u001b[0m                             arg  7 mem  0.06 GB tm     12.29us/     7.02ms (    15.00 GFLOPS   12.6|51.0    GB/s) ['__rmul__', 'conv2d bw', '__add__', 'assign', '__mul__', '__truediv__', 'sqrt', '__sub__']\n",
      "*** CUDA      52 r3_\u001b[34m32\u001b[0m\u001b[90m_\u001b[0m\u001b[32m16\u001b[0m\u001b[90m_\u001b[0m\u001b[31m8\u001b[0m\u001b[90mn1\u001b[0m                              arg  7 mem  0.06 GB tm     12.29us/     7.03ms (     1.67 GFLOPS    1.4|5.7     GB/s) ['__rmul__', 'conv2d bw', '__add__', 'assign', '__mul__', '__truediv__', 'sqrt', '__sub__']\n"
     ]
    }
   ],
   "source": [
    "from tinygrad import GlobalCounters, Context\n",
    "GlobalCounters.reset()\n",
    "with Context(DEBUG=2): step()"
   ]
  },
  {
   "cell_type": "code",
   "execution_count": 14,
   "id": "b8a4b023",
   "metadata": {},
   "outputs": [],
   "source": [
    "from tinygrad import TinyJit\n",
    "jit_step = TinyJit(step)"
   ]
  },
  {
   "cell_type": "code",
   "execution_count": 15,
   "id": "96b6989d",
   "metadata": {},
   "outputs": [
    {
     "data": {
      "text/plain": [
       "[0.13439255580306053,\n",
       " 0.08378646429628134,\n",
       " 0.002900158055126667,\n",
       " 7.588090375065804e-05,\n",
       " 3.8111116737127304e-05]"
      ]
     },
     "execution_count": 15,
     "metadata": {},
     "output_type": "execute_result"
    }
   ],
   "source": [
    "import timeit\n",
    "timeit.repeat(jit_step, repeat=5, number=1)\n",
    "# [0.2596786549997887,\n",
    "#  0.08989566299987928,\n",
    "#  0.0012115650001760514,\n",
    "#  0.001010227999813651,\n",
    "#  0.0012164899999334011]"
   ]
  },
  {
   "cell_type": "code",
   "execution_count": 16,
   "id": "9b04548b",
   "metadata": {},
   "outputs": [
    {
     "name": "stdout",
     "output_type": "stream",
     "text": [
      "step    0, loss 0.75, acc 90.87%\n",
      "step  100, loss 0.15, acc 96.43%\n",
      "step  200, loss 0.15, acc 97.45%\n",
      "step  300, loss 0.12, acc 97.33%\n",
      "step  400, loss 0.07, acc 97.56%\n",
      "step  500, loss 0.10, acc 97.65%\n",
      "step  600, loss 0.12, acc 98.08%\n",
      "step  700, loss 0.07, acc 98.27%\n",
      "step  800, loss 0.21, acc 97.80%\n",
      "step  900, loss 0.17, acc 98.32%\n",
      "step 1000, loss 0.14, acc 98.18%\n",
      "step 1100, loss 0.04, acc 98.34%\n",
      "step 1200, loss 0.01, acc 98.43%\n",
      "step 1300, loss 0.04, acc 98.48%\n",
      "step 1400, loss 0.06, acc 98.49%\n",
      "step 1500, loss 0.03, acc 98.39%\n",
      "step 1600, loss 0.08, acc 98.81%\n",
      "step 1700, loss 0.07, acc 98.66%\n",
      "step 1800, loss 0.08, acc 98.48%\n",
      "step 1900, loss 0.06, acc 98.40%\n",
      "step 2000, loss 0.05, acc 98.51%\n",
      "step 2100, loss 0.06, acc 98.74%\n",
      "step 2200, loss 0.09, acc 98.49%\n",
      "step 2300, loss 0.05, acc 98.48%\n",
      "step 2400, loss 0.07, acc 98.55%\n",
      "step 2500, loss 0.04, acc 98.54%\n",
      "step 2600, loss 0.08, acc 98.72%\n",
      "step 2700, loss 0.06, acc 98.52%\n",
      "step 2800, loss 0.05, acc 98.62%\n",
      "step 2900, loss 0.03, acc 98.67%\n",
      "step 3000, loss 0.01, acc 98.52%\n",
      "step 3100, loss 0.04, acc 98.53%\n",
      "step 3200, loss 0.08, acc 98.89%\n",
      "step 3300, loss 0.05, acc 98.83%\n",
      "step 3400, loss 0.05, acc 98.92%\n",
      "step 3500, loss 0.02, acc 98.77%\n",
      "step 3600, loss 0.11, acc 98.80%\n",
      "step 3700, loss 0.06, acc 98.81%\n",
      "step 3800, loss 0.06, acc 98.81%\n",
      "step 3900, loss 0.09, acc 98.90%\n",
      "step 4000, loss 0.04, acc 98.76%\n",
      "step 4100, loss 0.05, acc 98.64%\n",
      "step 4200, loss 0.04, acc 98.79%\n",
      "step 4300, loss 0.14, acc 98.70%\n",
      "step 4400, loss 0.13, acc 98.75%\n",
      "step 4500, loss 0.02, acc 98.86%\n",
      "step 4600, loss 0.01, acc 98.86%\n",
      "step 4700, loss 0.02, acc 98.93%\n",
      "step 4800, loss 0.03, acc 98.78%\n",
      "step 4900, loss 0.02, acc 98.83%\n",
      "step 5000, loss 0.08, acc 98.92%\n",
      "step 5100, loss 0.01, acc 98.91%\n",
      "step 5200, loss 0.01, acc 98.74%\n",
      "step 5300, loss 0.00, acc 98.93%\n",
      "step 5400, loss 0.04, acc 98.83%\n",
      "step 5500, loss 0.05, acc 98.62%\n",
      "step 5600, loss 0.07, acc 98.95%\n",
      "step 5700, loss 0.07, acc 98.83%\n",
      "step 5800, loss 0.07, acc 98.81%\n",
      "step 5900, loss 0.05, acc 98.92%\n",
      "step 6000, loss 0.07, acc 98.91%\n",
      "step 6100, loss 0.04, acc 98.96%\n",
      "step 6200, loss 0.11, acc 98.98%\n",
      "step 6300, loss 0.07, acc 98.93%\n",
      "step 6400, loss 0.03, acc 98.91%\n",
      "step 6500, loss 0.05, acc 98.85%\n",
      "step 6600, loss 0.04, acc 98.96%\n",
      "step 6700, loss 0.19, acc 98.83%\n",
      "step 6800, loss 0.03, acc 98.88%\n",
      "step 6900, loss 0.03, acc 98.99%\n"
     ]
    }
   ],
   "source": [
    "for step in range(7000):\n",
    "  loss = jit_step()\n",
    "  if step%100 == 0:\n",
    "    Tensor.training = False\n",
    "    acc = (model(X_test).argmax(axis=1) == Y_test).mean().item()\n",
    "    print(f\"step {step:4d}, loss {loss.item():.2f}, acc {acc*100.:.2f}%\")"
   ]
  },
  {
   "cell_type": "code",
   "execution_count": null,
   "id": "ce66ec4c",
   "metadata": {},
   "outputs": [],
   "source": []
  }
 ],
 "metadata": {
  "kernelspec": {
   "display_name": "tinygrad",
   "language": "python",
   "name": "tinygrad"
  },
  "language_info": {
   "codemirror_mode": {
    "name": "ipython",
    "version": 3
   },
   "file_extension": ".py",
   "mimetype": "text/x-python",
   "name": "python",
   "nbconvert_exporter": "python",
   "pygments_lexer": "ipython3",
   "version": "3.9.20"
  }
 },
 "nbformat": 4,
 "nbformat_minor": 5
}
