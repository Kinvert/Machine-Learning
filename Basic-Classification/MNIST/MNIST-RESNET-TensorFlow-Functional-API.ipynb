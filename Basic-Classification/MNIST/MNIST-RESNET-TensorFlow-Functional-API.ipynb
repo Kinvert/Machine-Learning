{
 "cells": [
  {
   "cell_type": "markdown",
   "id": "0dccad3f",
   "metadata": {},
   "source": [
    "## Imports"
   ]
  },
  {
   "cell_type": "code",
   "execution_count": 1,
   "id": "3b0c150b",
   "metadata": {},
   "outputs": [],
   "source": [
    "import tensorflow as tf\n",
    "from tensorflow.keras.datasets import mnist\n",
    "(X_orig, Y_train), (X_test, Y_test) = mnist.load_data()\n",
    "X_orig = X_orig / 255.0\n",
    "X_test = X_test / 255.0"
   ]
  },
  {
   "cell_type": "markdown",
   "id": "e16e17e3",
   "metadata": {},
   "source": [
    "## Model"
   ]
  },
  {
   "cell_type": "code",
   "execution_count": 6,
   "id": "9be2fd82",
   "metadata": {},
   "outputs": [],
   "source": [
    "inputs = tf.keras.Input(shape=(28, 28, 1))\n",
    "x = tf.keras.layers.RandomContrast(0.4)(inputs)\n",
    "x = tf.keras.layers.BatchNormalization()(x)\n",
    "x = tf.keras.layers.RandomRotation(0.02)(x)\n",
    "\n",
    "x_skip = tf.keras.layers.BatchNormalization()(x)\n",
    "x = tf.keras.layers.Conv2D(filters=16, kernel_size=3, padding='same')(x_skip)\n",
    "x = tf.keras.layers.BatchNormalization()(x)\n",
    "x = tf.keras.layers.Conv2D(filters=16, kernel_size=3, padding='same')(x)\n",
    "x = tf.keras.layers.BatchNormalization()(x)\n",
    "\n",
    "x = tf.keras.layers.Add()([x, x_skip])\n",
    "x = tf.keras.layers.MaxPooling2D((2,2))(x)\n",
    "x = tf.keras.layers.BatchNormalization()(x)\n",
    "\n",
    "x = tf.keras.layers.BatchNormalization()(x)\n",
    "x_skip = tf.keras.layers.Conv2D(filters=32, kernel_size=1, padding='same')(x)\n",
    "x = tf.keras.layers.Conv2D(filters=32, kernel_size=3, padding='same')(x_skip)\n",
    "x = tf.keras.layers.BatchNormalization()(x)\n",
    "x = tf.keras.layers.Conv2D(filters=32, kernel_size=3, padding='same')(x)\n",
    "x = tf.keras.layers.BatchNormalization()(x)\n",
    "\n",
    "x = tf.keras.layers.Add()([x, x_skip])\n",
    "x = tf.keras.layers.MaxPooling2D((2,2))(x)\n",
    "x = tf.keras.layers.BatchNormalization()(x)\n",
    "\n",
    "x = tf.keras.layers.Flatten()(x)\n",
    "x = tf.keras.layers.Dense(64, activation='relu')(x)\n",
    "outputs = tf.keras.layers.Dense(10)(x)\n",
    "\n",
    "model = tf.keras.Model(inputs=inputs, outputs=outputs)"
   ]
  },
  {
   "cell_type": "code",
   "execution_count": 7,
   "id": "1f7109c8",
   "metadata": {},
   "outputs": [
    {
     "name": "stdout",
     "output_type": "stream",
     "text": [
      "Epoch 1/4\n",
      "27/27 - 2s - loss: 0.7121 - accuracy: 0.7839 - val_loss: 0.7733 - val_accuracy: 0.8302 - 2s/epoch - 73ms/step\n",
      "Epoch 2/4\n",
      "27/27 - 1s - loss: 0.1745 - accuracy: 0.9484 - val_loss: 0.5998 - val_accuracy: 0.9205 - 971ms/epoch - 36ms/step\n",
      "Epoch 3/4\n",
      "27/27 - 1s - loss: 0.1120 - accuracy: 0.9672 - val_loss: 0.5166 - val_accuracy: 0.9232 - 965ms/epoch - 36ms/step\n",
      "Epoch 4/4\n",
      "27/27 - 1s - loss: 0.0831 - accuracy: 0.9759 - val_loss: 0.4862 - val_accuracy: 0.8992 - 959ms/epoch - 36ms/step\n",
      "313/313 - 1s - loss: 0.5251 - accuracy: 0.8795 - 818ms/epoch - 3ms/step\n"
     ]
    },
    {
     "data": {
      "text/plain": [
       "[0.5250759124755859, 0.8794999718666077]"
      ]
     },
     "execution_count": 7,
     "metadata": {},
     "output_type": "execute_result"
    }
   ],
   "source": [
    "loss_fn = tf.keras.losses.SparseCategoricalCrossentropy(from_logits=True)\n",
    "model.compile(optimizer='adam', loss=loss_fn, metrics=['accuracy'])\n",
    "history = model.fit(X_orig, Y_train, validation_split=0.1, epochs=4, batch_size=2048, verbose=2)\n",
    "model.evaluate(X_test, Y_test, verbose=2)"
   ]
  }
 ],
 "metadata": {
  "kernelspec": {
   "display_name": "Python 3 (ipykernel)",
   "language": "python",
   "name": "python3"
  },
  "language_info": {
   "codemirror_mode": {
    "name": "ipython",
    "version": 3
   },
   "file_extension": ".py",
   "mimetype": "text/x-python",
   "name": "python",
   "nbconvert_exporter": "python",
   "pygments_lexer": "ipython3",
   "version": "3.8.13"
  }
 },
 "nbformat": 4,
 "nbformat_minor": 5
}
