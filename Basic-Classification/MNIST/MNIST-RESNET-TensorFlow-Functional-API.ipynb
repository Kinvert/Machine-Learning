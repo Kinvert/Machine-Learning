{
 "cells": [
  {
   "cell_type": "markdown",
   "id": "0dccad3f",
   "metadata": {},
   "source": [
    "## Imports"
   ]
  },
  {
   "cell_type": "code",
   "execution_count": 1,
   "id": "3b0c150b",
   "metadata": {},
   "outputs": [],
   "source": [
    "import tensorflow as tf\n",
    "from tensorflow.keras.datasets import mnist\n",
    "(X_orig, Y_train), (X_test, Y_test) = mnist.load_data()\n",
    "X_orig = X_orig / 255.0\n",
    "X_test = X_test / 255.0"
   ]
  },
  {
   "cell_type": "markdown",
   "id": "e16e17e3",
   "metadata": {},
   "source": [
    "## Model"
   ]
  },
  {
   "cell_type": "code",
   "execution_count": 7,
   "id": "9be2fd82",
   "metadata": {},
   "outputs": [],
   "source": [
    "inputs = tf.keras.Input(shape=(28, 28, 1))\n",
    "x = tf.keras.layers.RandomContrast(0.4)(inputs)\n",
    "x = tf.keras.layers.BatchNormalization()(x)\n",
    "x = tf.keras.layers.RandomRotation(0.02)(x)\n",
    "\n",
    "x_skip = tf.keras.layers.BatchNormalization()(x)\n",
    "x = tf.keras.layers.Conv2D(filters=16, kernel_size=3, padding='same')(x_skip)\n",
    "x = tf.keras.layers.BatchNormalization()(x)\n",
    "x = tf.keras.layers.Conv2D(filters=16, kernel_size=3, padding='same')(x)\n",
    "x = tf.keras.layers.BatchNormalization()(x)\n",
    "\n",
    "x = tf.keras.layers.Add()([x, x_skip])\n",
    "x = tf.keras.layers.MaxPooling2D((2,2))(x)\n",
    "x = tf.keras.layers.BatchNormalization()(x)\n",
    "\n",
    "x_skip = tf.keras.layers.Conv2D(filters=32, kernel_size=1, padding='same')(x)\n",
    "x = tf.keras.layers.BatchNormalization()(x_skip)\n",
    "x = tf.keras.layers.Conv2D(filters=32, kernel_size=3, padding='same')(x)\n",
    "x = tf.keras.layers.BatchNormalization()(x)\n",
    "x = tf.keras.layers.Conv2D(filters=32, kernel_size=3, padding='same')(x)\n",
    "x = tf.keras.layers.BatchNormalization()(x)\n",
    "\n",
    "x = tf.keras.layers.Add()([x, x_skip])\n",
    "x = tf.keras.layers.MaxPooling2D((2,2))(x)\n",
    "x = tf.keras.layers.BatchNormalization()(x)\n",
    "\n",
    "x = tf.keras.layers.Flatten()(x)\n",
    "x = tf.keras.layers.Dense(64, activation='relu')(x)\n",
    "outputs = tf.keras.layers.Dense(10)(x)\n",
    "\n",
    "model = tf.keras.Model(inputs=inputs, outputs=outputs)"
   ]
  },
  {
   "cell_type": "code",
   "execution_count": 8,
   "id": "1f7109c8",
   "metadata": {},
   "outputs": [
    {
     "name": "stdout",
     "output_type": "stream",
     "text": [
      "Epoch 1/4\n",
      "27/27 - 2s - loss: 0.6401 - accuracy: 0.8055 - val_loss: 1.0482 - val_accuracy: 0.7393 - 2s/epoch - 74ms/step\n",
      "Epoch 2/4\n",
      "27/27 - 1s - loss: 0.1555 - accuracy: 0.9544 - val_loss: 0.8145 - val_accuracy: 0.8263 - 981ms/epoch - 36ms/step\n",
      "Epoch 3/4\n",
      "27/27 - 1s - loss: 0.0987 - accuracy: 0.9711 - val_loss: 0.7374 - val_accuracy: 0.8185 - 979ms/epoch - 36ms/step\n",
      "Epoch 4/4\n",
      "27/27 - 1s - loss: 0.0756 - accuracy: 0.9766 - val_loss: 0.5870 - val_accuracy: 0.8578 - 971ms/epoch - 36ms/step\n",
      "313/313 - 1s - loss: 0.6007 - accuracy: 0.8483 - 848ms/epoch - 3ms/step\n"
     ]
    },
    {
     "data": {
      "text/plain": [
       "[0.6007322669029236, 0.8482999801635742]"
      ]
     },
     "execution_count": 8,
     "metadata": {},
     "output_type": "execute_result"
    }
   ],
   "source": [
    "loss_fn = tf.keras.losses.SparseCategoricalCrossentropy(from_logits=True)\n",
    "model.compile(optimizer='adam', loss=loss_fn, metrics=['accuracy'])\n",
    "history = model.fit(X_orig, Y_train, validation_split=0.1, epochs=4, batch_size=2048, verbose=2)\n",
    "model.evaluate(X_test, Y_test, verbose=2)"
   ]
  }
 ],
 "metadata": {
  "kernelspec": {
   "display_name": "Python 3 (ipykernel)",
   "language": "python",
   "name": "python3"
  },
  "language_info": {
   "codemirror_mode": {
    "name": "ipython",
    "version": 3
   },
   "file_extension": ".py",
   "mimetype": "text/x-python",
   "name": "python",
   "nbconvert_exporter": "python",
   "pygments_lexer": "ipython3",
   "version": "3.8.13"
  }
 },
 "nbformat": 4,
 "nbformat_minor": 5
}
