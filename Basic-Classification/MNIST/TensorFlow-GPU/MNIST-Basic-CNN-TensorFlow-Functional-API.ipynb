{
 "cells": [
  {
   "cell_type": "markdown",
   "id": "8bdfa136",
   "metadata": {},
   "source": [
    "## Benchmark 3070ti - Functional API\n",
    "Since making MNIST classifiers from scratch I wanted to compare how it performs now that I have a 3070ti."
   ]
  },
  {
   "cell_type": "code",
   "execution_count": 2,
   "id": "0faa7d45",
   "metadata": {},
   "outputs": [],
   "source": [
    "import tensorflow as tf\n",
    "from tensorflow.keras.datasets import mnist\n",
    "(X_train, Y_train), (X_test, Y_test) = mnist.load_data()\n",
    "X_train = X_train / 255.0\n",
    "X_test = X_test / 255.0"
   ]
  },
  {
   "cell_type": "code",
   "execution_count": 4,
   "id": "09b737aa",
   "metadata": {},
   "outputs": [],
   "source": [
    "inputs = tf.keras.Input(shape=(28, 28, 1))\n",
    "\n",
    "x = tf.keras.layers.BatchNormalization()(inputs)\n",
    "x = tf.keras.layers.Conv2D(filters=16, kernel_size=3, padding='same')(x)\n",
    "x = tf.keras.layers.BatchNormalization()(x)\n",
    "\n",
    "x = tf.keras.layers.Flatten()(x)\n",
    "x = tf.keras.layers.Dense(128, activation='relu')(x)\n",
    "outputs = tf.keras.layers.Dense(10)(x)\n",
    "\n",
    "model = tf.keras.Model(inputs=inputs, outputs=outputs)"
   ]
  },
  {
   "cell_type": "code",
   "execution_count": 6,
   "id": "6ecdcaf7",
   "metadata": {},
   "outputs": [
    {
     "name": "stdout",
     "output_type": "stream",
     "text": [
      "Epoch 1/10\n",
      "8/8 - 1s - loss: 0.3003 - accuracy: 0.9116 - 629ms/epoch - 79ms/step\n",
      "Epoch 2/10\n",
      "8/8 - 0s - loss: 0.1687 - accuracy: 0.9508 - 310ms/epoch - 39ms/step\n",
      "Epoch 3/10\n",
      "8/8 - 0s - loss: 0.1232 - accuracy: 0.9640 - 310ms/epoch - 39ms/step\n",
      "Epoch 4/10\n",
      "8/8 - 0s - loss: 0.0996 - accuracy: 0.9716 - 316ms/epoch - 40ms/step\n",
      "Epoch 5/10\n",
      "8/8 - 0s - loss: 0.0813 - accuracy: 0.9770 - 309ms/epoch - 39ms/step\n",
      "Epoch 6/10\n",
      "8/8 - 0s - loss: 0.0679 - accuracy: 0.9815 - 318ms/epoch - 40ms/step\n",
      "Epoch 7/10\n",
      "8/8 - 0s - loss: 0.0577 - accuracy: 0.9846 - 310ms/epoch - 39ms/step\n",
      "Epoch 8/10\n",
      "8/8 - 0s - loss: 0.0492 - accuracy: 0.9876 - 321ms/epoch - 40ms/step\n",
      "Epoch 9/10\n",
      "8/8 - 0s - loss: 0.0422 - accuracy: 0.9897 - 310ms/epoch - 39ms/step\n",
      "Epoch 10/10\n",
      "8/8 - 0s - loss: 0.0368 - accuracy: 0.9915 - 310ms/epoch - 39ms/step\n",
      "313/313 - 1s - loss: 0.3051 - accuracy: 0.9644 - 627ms/epoch - 2ms/step\n"
     ]
    },
    {
     "data": {
      "text/plain": [
       "[0.30512356758117676, 0.9643999934196472]"
      ]
     },
     "execution_count": 6,
     "metadata": {},
     "output_type": "execute_result"
    }
   ],
   "source": [
    "loss_fn = tf.keras.losses.SparseCategoricalCrossentropy(from_logits=True)\n",
    "model.compile(optimizer='adam', loss=loss_fn, metrics=['accuracy'])\n",
    "model.fit(X_train, Y_train, epochs=10, batch_size=8192, verbose=2)\n",
    "model.evaluate(X_test,  Y_test, verbose=2)"
   ]
  }
 ],
 "metadata": {
  "kernelspec": {
   "display_name": "Python 3 (ipykernel)",
   "language": "python",
   "name": "python3"
  },
  "language_info": {
   "codemirror_mode": {
    "name": "ipython",
    "version": 3
   },
   "file_extension": ".py",
   "mimetype": "text/x-python",
   "name": "python",
   "nbconvert_exporter": "python",
   "pygments_lexer": "ipython3",
   "version": "3.8.13"
  }
 },
 "nbformat": 4,
 "nbformat_minor": 5
}
