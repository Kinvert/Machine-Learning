{
 "cells": [
  {
   "cell_type": "markdown",
   "id": "8bdfa136",
   "metadata": {},
   "source": [
    "## Benchmark 3070ti - Sequential\n",
    "Since making MNIST classifiers from scratch I wanted to compare how it performs now that I have a 3070ti."
   ]
  },
  {
   "cell_type": "code",
   "execution_count": 1,
   "id": "0faa7d45",
   "metadata": {},
   "outputs": [],
   "source": [
    "import tensorflow as tf\n",
    "from tensorflow.keras.datasets import mnist\n",
    "(X_train, Y_train), (X_test, Y_test) = mnist.load_data()\n",
    "X_train = X_train / 255.0\n",
    "X_test = X_test / 255.0"
   ]
  },
  {
   "cell_type": "code",
   "execution_count": 3,
   "id": "09b737aa",
   "metadata": {},
   "outputs": [
    {
     "name": "stdout",
     "output_type": "stream",
     "text": [
      "Epoch 1/10\n",
      "8/8 - 0s - loss: 1.0471 - accuracy: 0.6847 - 467ms/epoch - 58ms/step\n",
      "Epoch 2/10\n",
      "8/8 - 0s - loss: 0.4388 - accuracy: 0.8729 - 198ms/epoch - 25ms/step\n",
      "Epoch 3/10\n",
      "8/8 - 0s - loss: 0.3368 - accuracy: 0.9026 - 208ms/epoch - 26ms/step\n",
      "Epoch 4/10\n",
      "8/8 - 0s - loss: 0.2829 - accuracy: 0.9173 - 207ms/epoch - 26ms/step\n",
      "Epoch 5/10\n",
      "8/8 - 0s - loss: 0.2450 - accuracy: 0.9286 - 197ms/epoch - 25ms/step\n",
      "Epoch 6/10\n",
      "8/8 - 0s - loss: 0.2171 - accuracy: 0.9366 - 211ms/epoch - 26ms/step\n",
      "Epoch 7/10\n",
      "8/8 - 0s - loss: 0.1939 - accuracy: 0.9429 - 205ms/epoch - 26ms/step\n",
      "Epoch 8/10\n",
      "8/8 - 0s - loss: 0.1781 - accuracy: 0.9476 - 205ms/epoch - 26ms/step\n",
      "Epoch 9/10\n",
      "8/8 - 0s - loss: 0.1630 - accuracy: 0.9517 - 204ms/epoch - 26ms/step\n",
      "Epoch 10/10\n",
      "8/8 - 0s - loss: 0.1468 - accuracy: 0.9569 - 197ms/epoch - 25ms/step\n",
      "313/313 - 1s - loss: 0.1254 - accuracy: 0.9632 - 566ms/epoch - 2ms/step\n"
     ]
    },
    {
     "data": {
      "text/plain": [
       "[0.12544377148151398, 0.9631999731063843]"
      ]
     },
     "execution_count": 3,
     "metadata": {},
     "output_type": "execute_result"
    }
   ],
   "source": [
    "model = tf.keras.models.Sequential([\n",
    "    tf.keras.layers.Conv2D(input_shape=(28,28,1),\n",
    "                    filters=30,\n",
    "                    kernel_size=5),\n",
    "    tf.keras.layers.Flatten(),\n",
    "    tf.keras.layers.Dense(128, activation='relu'),\n",
    "    tf.keras.layers.Dropout(0.2),\n",
    "    tf.keras.layers.Dense(10)\n",
    "])\n",
    "loss_fn = tf.keras.losses.SparseCategoricalCrossentropy(from_logits=True)\n",
    "model.compile(optimizer='adam', loss=loss_fn, metrics=['accuracy'])\n",
    "model.fit(X_train, Y_train, epochs=10, batch_size=8192, verbose=2)\n",
    "model.evaluate(X_test,  Y_test, verbose=2)"
   ]
  },
  {
   "cell_type": "code",
   "execution_count": null,
   "id": "3e08a27d",
   "metadata": {},
   "outputs": [],
   "source": []
  }
 ],
 "metadata": {
  "kernelspec": {
   "display_name": "Python 3 (ipykernel)",
   "language": "python",
   "name": "python3"
  },
  "language_info": {
   "codemirror_mode": {
    "name": "ipython",
    "version": 3
   },
   "file_extension": ".py",
   "mimetype": "text/x-python",
   "name": "python",
   "nbconvert_exporter": "python",
   "pygments_lexer": "ipython3",
   "version": "3.8.13"
  }
 },
 "nbformat": 4,
 "nbformat_minor": 5
}
