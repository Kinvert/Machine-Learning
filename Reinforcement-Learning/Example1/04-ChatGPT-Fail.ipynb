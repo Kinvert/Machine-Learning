{
 "cells": [
  {
   "cell_type": "code",
   "execution_count": null,
   "id": "d3709211",
   "metadata": {},
   "outputs": [],
   "source": [
    "import numpy as np\n",
    "import tensorflow as tf\n",
    "\n",
    "# Define the environment\n",
    "class Environment:\n",
    "    def __init__(self):\n",
    "        self.state = 0\n",
    "        self.end_states = [3, 6]\n",
    "\n",
    "    def step(self, action):\n",
    "        if self.state in self.end_states:\n",
    "            return self.state, 0, True\n",
    "        self.state += action\n",
    "        return self.state, -1, self.state in self.end_states\n",
    "\n",
    "# Define the Q-Learning algorithm\n",
    "class QLearning:\n",
    "    def __init__(self, state_size, action_size):\n",
    "        self.state_size = state_size\n",
    "        self.action_size = action_size\n",
    "        self.q_table = tf.Variable(tf.random.uniform(shape=(state_size, action_size), minval=0, maxval=1))\n",
    "\n",
    "    def get_action(self, state, epsilon):\n",
    "        if np.random.random() < epsilon:\n",
    "            return np.random.randint(self.action_size)\n",
    "        else:\n",
    "            return tf.argmax(self.q_table[state]).numpy()\n",
    "\n",
    "    def update(self, state, action, reward, next_state, alpha, gamma):\n",
    "        q_next = tf.reduce_max(self.q_table[next_state])\n",
    "        q_val = self.q_table[state][action]\n",
    "        q_update = q_val + alpha * (reward + gamma * q_next - q_val)\n",
    "        self.q_table = tf.tensor_scatter_nd_update(self.q_table, [[state, action]], [q_update])\n",
    "\n",
    "# Define the training loop\n",
    "def train(agent, env, episodes, alpha, gamma, epsilon):\n",
    "    for episode in range(episodes):\n",
    "        state = 0\n",
    "        total_reward = 0\n",
    "        while True:\n",
    "            action = agent.get_action(state, epsilon)\n",
    "            agent.update(state, action, reward, next_state, alpha, gamma)\n",
    "            next_state, reward, done = env.step(action)\n",
    "            state = next_state\n",
    "            total_reward += reward\n",
    "            if done:\n",
    "                break\n",
    "        print(f\"Episode {episode + 1}: Total Reward = {total_reward}\")\n",
    "\n",
    "# Define the main function\n",
    "def main():\n",
    "    env = Environment()\n",
    "    agent = QLearning(state_size=7, action_size=3)\n",
    "    train(agent, env, episodes=1000, alpha=0.1, gamma=0.9, epsilon=0.1)\n",
    "\n",
    "if __name__ == \"__main__\":\n",
    "    main()\n"
   ]
  },
  {
   "cell_type": "code",
   "execution_count": null,
   "id": "0e9dd1d5",
   "metadata": {},
   "outputs": [],
   "source": []
  }
 ],
 "metadata": {
  "kernelspec": {
   "display_name": "Python 3 (ipykernel)",
   "language": "python",
   "name": "python3"
  },
  "language_info": {
   "codemirror_mode": {
    "name": "ipython",
    "version": 3
   },
   "file_extension": ".py",
   "mimetype": "text/x-python",
   "name": "python",
   "nbconvert_exporter": "python",
   "pygments_lexer": "ipython3",
   "version": "3.8.13"
  }
 },
 "nbformat": 4,
 "nbformat_minor": 5
}
